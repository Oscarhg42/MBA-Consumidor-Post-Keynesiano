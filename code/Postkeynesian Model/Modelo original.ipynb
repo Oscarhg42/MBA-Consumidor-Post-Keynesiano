{
 "cells": [
  {
   "cell_type": "code",
   "execution_count": null,
   "metadata": {},
   "outputs": [],
   "source": [
    "from mesa import Agent, Model\n",
    "from mesa.space import SingleGrid\n",
    "from mesa.time import RandomActivation, SimultaneousActivation\n",
    "from mesa.datacollection import DataCollector\n",
    "import numpy as np\n",
    "import matplotlib.pyplot as plt\n",
    "import random as rm\n",
    "\n",
    "from mesa.visualization.modules import CanvasGrid\n",
    "from mesa.visualization.ModularVisualization import ModularServer\n"
   ]
  },
  {
   "cell_type": "code",
   "execution_count": null,
   "metadata": {},
   "outputs": [],
   "source": [
    "class KeynesAgent(Agent):\n",
    "    \"\"\"\n",
    "         Create a new PostKeynesian agent.\n",
    "         Args:\n",
    "            model: class model in wich the agent lives\n",
    "            pos: Posicion of the agent (tuple or list?)\n",
    "            v_c: Consume vector: informacion about the consuming behavior of the agent\n",
    "                    (tuple, list, or numpy vector??)\n",
    "        \"\"\"\n",
    "    D=dict(B=np.array([1,0,0]), M=np.array([0,1,0]), A=np.array([0,0,1]),\n",
    "           MB=np.array([1,1,0]), AB=np.array([1,0,1]), AM=np.array([0,1,1]),\n",
    "           AMB=np.array([1,1,1]))\n",
    "    \n",
    "    # Clases sociales \n",
    "    \n",
    "    D_med=[D['M'], D['MB'], D['AM']] # media: reglas 2,3,4,5\n",
    "    D_alt=[D['A'], D['AB'], D['AMB']] # alta: reglas 2,3,4,5\n",
    "\n",
    "  \n",
    "\n",
    "    def __init__(self, model, pos, v_c):\n",
    "        #self.model=model\n",
    "        super().__init__(pos, model)\n",
    "        self.pos = pos\n",
    "        self.v_c = v_c\n",
    "        \n",
    "\n",
    "    def social_class(self):\n",
    "          #boolean selectors\n",
    "        bool_bajo=(self.v_c == KeynesAgent.D['B']).all()\n",
    "        bool_med = [(self.v_c == j).all() for j in KeynesAgent.D_med]\n",
    "        bool_alt = [(self.v_c == j).all() for j in KeynesAgent.D_alt]\n",
    "        #print(KeynesAgent.D_med)\n",
    "        if bool_bajo:\n",
    "        \n",
    "            print('Es de clase baja')\n",
    "            #agent.v_c = agent.v_c\n",
    "        \n",
    "        elif True in bool_med:\n",
    "        \n",
    "            print('Es de clase media')\n",
    "            #med_rules(agent)   \n",
    "        \n",
    "        else:\n",
    "            print('Es de clase alta')\n",
    "            #alt_rules(agent) \n",
    "        \n",
    "    #Metodos a escribir\n",
    "    def step(self):\n",
    "        ind = rm.choice(range(3))\n",
    "        self.v_c[ind] = abs(self.v_c[ind]-1)\n",
    "        #pass\n",
    "        "
   ]
  },
  {
   "cell_type": "code",
   "execution_count": null,
   "metadata": {},
   "outputs": [],
   "source": [
    "class KeynesModel(Model):\n",
    "    \n",
    "    \"\"\"Model class for the Postkeynessian consumer model\"\"\"\n",
    "    def __init__(self, N, m, n, n_b, n_m, n_a):\n",
    "        \"\"\"\n",
    "        N = numero de agentes\n",
    "        m x n = numero total de celdas del modelo\n",
    "            m = numero de filas\n",
    "            n = numero de columnas\n",
    "        *args = lista/tupla (??) con entradas n_b , n_m , n_a, donde\n",
    "            n_b = numero de agentes de clase baja\n",
    "            n_m = numero de agentes de clase media\n",
    "            n_a = numero de agentes de clase alta\n",
    "        \"\"\"\n",
    "        args=(n_b,n_m,n_a)\n",
    "        if np.array(args).sum() != N:\n",
    "            print(\"Error, la suma de agentes de cada clase no es igual a N\")\n",
    "        else:\n",
    "            self.num_agents = N\n",
    "            self.grid = SingleGrid(m, n, torus=True)\n",
    "            self.schedule = RandomActivation(self)\n",
    "            self.running = True\n",
    "        \n",
    "            #CREATE AGENTS\n",
    "            # matrix of all coordinates, ramdom choosing from this to set agent's position and \n",
    "            # then  must asign V_c from a list of numpy arrays\n",
    "            # order: clase baja, clase media, clase alta\n",
    "            \n",
    "            M=[(i,j) for i in range(m) for j in range(n)] #matriz de posiciones\n",
    "            n_b, n_m, n_a=args[0], args[1], args[2] #linea innsecesaria\n",
    "            for j in range(3):\n",
    "                v_c=[0,0,0]\n",
    "                for i in range(args[j]):\n",
    "                    v_c[j]=1\n",
    "                    #x = self.random.randrange(m)\n",
    "                    #y = self.random.randrange(n)\n",
    "                    #pos=(x,y)\n",
    "                    pos=M.pop(M.index(rm.choice(M)))\n",
    "                    #print(pos)\n",
    "                    v_c=np.array(v_c)\n",
    "                    a=KeynesAgent(self,pos,v_c)\n",
    "                    self.schedule.add(a)\n",
    "                    self.grid.position_agent(a,pos) \n",
    "            \n",
    "\n",
    "    def step(self):\n",
    "        #self.datacollector.collect(self)\n",
    "        self.schedule.step()\n",
    "        "
   ]
  },
  {
   "cell_type": "code",
   "execution_count": null,
   "metadata": {},
   "outputs": [],
   "source": []
  },
  {
   "cell_type": "code",
   "execution_count": null,
   "metadata": {},
   "outputs": [],
   "source": [
    "model=KeynesModel(100,10,10,50,25,25)\n",
    "#model.grid.get_neighbors((1,1),moore=True)# vecinos"
   ]
  },
  {
   "cell_type": "code",
   "execution_count": null,
   "metadata": {},
   "outputs": [],
   "source": [
    "a=model.schedule.agents[98]\n",
    "print(a.v_c)"
   ]
  },
  {
   "cell_type": "code",
   "execution_count": null,
   "metadata": {},
   "outputs": [],
   "source": [
    "a.social_class()"
   ]
  },
  {
   "cell_type": "code",
   "execution_count": null,
   "metadata": {},
   "outputs": [],
   "source": []
  },
  {
   "cell_type": "code",
   "execution_count": null,
   "metadata": {},
   "outputs": [],
   "source": [
    "#probando un step\n",
    "model.grid.get_neighbors((1,1),moore=True) #así obtengo a los vecinos"
   ]
  },
  {
   "cell_type": "code",
   "execution_count": null,
   "metadata": {},
   "outputs": [],
   "source": [
    "#comprobando la suma de los vectores de consumo\n",
    "vecs=[a.v_c for a in model.schedule.agents]\n",
    "vecs=np.array(vecs)\n",
    "vecs.sum(0)"
   ]
  },
  {
   "cell_type": "code",
   "execution_count": null,
   "metadata": {},
   "outputs": [],
   "source": [
    "a=model.schedule.agents[0].v_c"
   ]
  },
  {
   "cell_type": "code",
   "execution_count": null,
   "metadata": {},
   "outputs": [],
   "source": [
    "(a==a).all()"
   ]
  },
  {
   "cell_type": "code",
   "execution_count": null,
   "metadata": {},
   "outputs": [],
   "source": [
    "False in model.schedule.agents[0].v_c == (1,0,0)"
   ]
  },
  {
   "cell_type": "markdown",
   "metadata": {},
   "source": [
    "# Visualización inicial"
   ]
  },
  {
   "cell_type": "code",
   "execution_count": null,
   "metadata": {},
   "outputs": [],
   "source": [
    "from mesa.visualization.modules import CanvasGrid\n",
    "from mesa.visualization.ModularVisualization import ModularServer"
   ]
  },
  {
   "cell_type": "code",
   "execution_count": null,
   "metadata": {},
   "outputs": [],
   "source": [
    "def agent_portrayal(agent):\n",
    "    portrayal = {\"Shape\": \"circle\",\n",
    "                 \"Filled\": \"true\",\n",
    "                 \"Layer\": 0,\n",
    "                 \"r\": 0.5}\n",
    "    \n",
    "    D=dict(B=np.array([1,0,0]), M=np.array([0,1,0]), A=np.array([0,0,1]),\n",
    "       MB=np.array([1,1,0]), AB=np.array([1,0,1]), AM=np.array([0,1,1]),\n",
    "       AMB=np.array([1,1,1]))\n",
    "    \n",
    "    if (agent.v_c == D['B']).all() :\n",
    "        portrayal[\"Color\"] = \"red\"\n",
    "        \n",
    "    elif (agent.v_c == D['M']).all():\n",
    "        portrayal[\"Color\"] = \"green\" \n",
    "#     else:\n",
    "#         portrayal[\"Color\"] = \"blue\"\n",
    "    elif (agent.v_c == D['A']).all():\n",
    "        portrayal[\"Color\"] = \"blue\"\n",
    "        \n",
    "    elif (agent.v_c == D['MB']).all():\n",
    "        portrayal[\"Color\"] = \"yellow\"\n",
    "        \n",
    "    elif (agent.v_c == D['AB']).all():\n",
    "        portrayal[\"Color\"] = \"#FF1493\" #rosa mexicano\n",
    "        \n",
    "    elif (agent.v_c == D['AM']).all():\n",
    "        portrayal[\"Color\"] = \"#48D1CC\" #turquesa bonito\n",
    "        \n",
    "    elif (agent.v_c == D['AMB']).all():\n",
    "        portrayal[\"Color\"] = \"#000000\" #negro\n",
    "    else :\n",
    "        portrayal[\"Color\"] = \"#FFFFFF\" #blanco\n",
    "        \n",
    "        \n",
    "    return portrayal"
   ]
  },
  {
   "cell_type": "code",
   "execution_count": null,
   "metadata": {},
   "outputs": [],
   "source": [
    "grid = CanvasGrid(agent_portrayal, 10, 10, 500, 500)"
   ]
  },
  {
   "cell_type": "code",
   "execution_count": null,
   "metadata": {},
   "outputs": [],
   "source": [
    "grid = CanvasGrid(agent_portrayal, 10, 10, 500, 500)\n",
    "server = ModularServer(KeynesModel,\n",
    "                       [grid],\n",
    "                       \"Post-Keynesian Model\",\n",
    "                       {\"N\":100, \"m\":10, \"n\":10, \"n_b\":50, \"n_m\":25, \"n_a\":25})\n",
    "server.port = 8553 # The default\n",
    "server.launch()"
   ]
  },
  {
   "cell_type": "markdown",
   "metadata": {},
   "source": [
    "# Testing functions"
   ]
  },
  {
   "cell_type": "code",
   "execution_count": null,
   "metadata": {},
   "outputs": [],
   "source": [
    "def creating_agents(n,m,*args):\n",
    "    M=[(i+1,j+1) for i in range(m) for j in range(n)] #matriz de posiciones\n",
    "    n_b, n_m, n_a=args[0], args[1], args[2] # linea innecesaria\n",
    "    if np.array(args).sum() != N:\n",
    "        print('Error: La cantidad de agentes en las clases no es la correcta ')\n",
    "    else:\n",
    "        for i in range(args[0]):\n",
    "            pos=M.pop(M.index(rm.choice(M)))\n",
    "            v_c=np.array((1,0,0))\n",
    "            #print(f'position asigned{pos}')\n",
    "        #print('Las posisiones restantes son:')\n",
    "        #print(M)\n",
    "        return M "
   ]
  },
  {
   "cell_type": "code",
   "execution_count": null,
   "metadata": {},
   "outputs": [],
   "source": [
    "def vc_update(self):\n",
    "    \n",
    "    #dictionary with all possible V_c's\n",
    "    \n",
    "    D=dict(B=np.array([1,0,0]), M=np.array([0,1,0]), A=np.array([0,0,1]),\n",
    "           MB=np.array([1,1,0]), AB=np.array([1,0,1]), AM=np.array([0,1,1]),\n",
    "           AMB=np.array([1,1,1]))\n",
    "    \n",
    "    # Clases sociales \n",
    "    \n",
    "    D_med=[D['M'], D['MB'], D['AM']] # media: reglas 2,3,4,5\n",
    "    D_alt=[D['A'], D['AB'], D['AMB']] # alta: reglas 2,3,4,5\n",
    "\n",
    "    #boolean selectors\n",
    "    bool_bajo=(self.v_c == D['B']).all()\n",
    "    bools_med = [(self.v_c == j).all() for j in D_med]\n",
    "    bools_alt = [(self.v_c == j).all() for j in D_alt]\n",
    "\n",
    "\n",
    "    if bool_bajo:\n",
    "        pass\n",
    "    elif True in bools_med:\n",
    "        v_cs = np.array([neig.v_c for neig in model.grid.get_neighbors(self.pos,moore=True)])\n",
    "        s = v_cs.sum(0)\n",
    "\n",
    "        if s[1] > s[0] and s[1] > s[2]: #1 medio \n",
    "            self.v_c = D['M']\n",
    "\n",
    "        elif s[0] < s[2] and s[1] < s[2]: #2 medio\n",
    "            self.v_c = D['AM']\n",
    "\n",
    "        elif s[2] < s[0] and s[1] < s[0]: #3 medio\n",
    "            self.v_c = D['MB']\n",
    "\n",
    "        elif s[0] == s[2]: #4 medio \n",
    "            self.v_c = D['AMB']\n",
    "    else:  \n",
    "        v_cs = np.array([neig.v_c for neig in model.grid.get_neighbors(self.pos,moore=True)])\n",
    "        #print(f'Los vectores de consumo de los vecnios son{v_cs}')\n",
    "        s = v_cs.sum(0)\n",
    "        #print(f'la suma de las practicas de consumo es {s}')\n",
    "        if s[2] > s[0] and s[2] > s[1]: #5 alto\n",
    "            self.v_c = D['A']\n",
    "\n",
    "        elif s[1] > s[0] and s[1] > s[2]: #6 alto\n",
    "            self.v_c = D['AM']\n",
    "\n",
    "        elif s[1] < s[0] and s[2] < s[0]: #7 alto\n",
    "            self.v_c = D['AB']\n",
    "\n",
    "        elif s[0] == s[1]: #8 alto\n",
    "            self.v_c = D['AMB']\n",
    "\n",
    "    #print(f'La actualizacion del vector de consumo es: {a.v_c}')\n",
    "\n"
   ]
  },
  {
   "cell_type": "code",
   "execution_count": null,
   "metadata": {},
   "outputs": [],
   "source": [
    "D=dict(B=np.array([1,0,0]), M=np.array([0,1,0]), A=np.array([0,0,1]),\n",
    "        MB=np.array([1,1,0]), AB=np.array([1,0,1]), AM=np.array([0,1,1]),\n",
    "        AMB=np.array([1,1,1]))\n",
    "    \n",
    "    # Clases sociales \n",
    "    \n",
    "D_med=[D['M'], D['MB'], D['AM']] # media: reglas 2,3,4,5\n",
    "D_alt=[D['A'], D['AB'], D['AMB']] # alta: reglas 6,7,8,9\n",
    "\n"
   ]
  },
  {
   "cell_type": "code",
   "execution_count": null,
   "metadata": {},
   "outputs": [],
   "source": [
    "model=KeynesModel(100,10,10,50,25,25)\n",
    "a=rm.choice(model.schedule.agents)\n",
    "print(f'Posicion del agente: {a.pos}')\n",
    "print(f'vector de consumo: {a.v_c}')"
   ]
  },
  {
   "cell_type": "code",
   "execution_count": null,
   "metadata": {},
   "outputs": [],
   "source": []
  },
  {
   "cell_type": "code",
   "execution_count": null,
   "metadata": {},
   "outputs": [],
   "source": [
    "print('A qué clase pertence?')"
   ]
  },
  {
   "cell_type": "code",
   "execution_count": null,
   "metadata": {},
   "outputs": [],
   "source": [
    "bool_bajo=(a.v_c == D['B']).all()\n",
    "bool_med = [(a.v_c == j).all() for j in D_med]\n",
    "bool_alt = [(a.v_c == j).all() for j in D_alt]\n",
    "if bool_bajo:\n",
    "    print('Es de clase baja')\n",
    "elif True in bool_med:\n",
    "    print('Es de clase media')\n",
    "else:\n",
    "    print('Es de clase alta')"
   ]
  },
  {
   "cell_type": "code",
   "execution_count": null,
   "metadata": {},
   "outputs": [],
   "source": [
    "s=[j.v_c for j in model.grid.get_neighbors(a.pos,moore=True)]\n",
    "s=np.array(s)\n",
    "s.sum(0)"
   ]
  },
  {
   "cell_type": "code",
   "execution_count": null,
   "metadata": {},
   "outputs": [],
   "source": [
    "#deberia aplicar la regla 3 media y cambiar el V_c a (1,1,0)"
   ]
  },
  {
   "cell_type": "code",
   "execution_count": null,
   "metadata": {},
   "outputs": [],
   "source": [
    "agent=a\n",
    "v_cs = np.array([neig.v_c for neig in model.grid.get_neighbors(agent.pos,moore=True)])\n",
    "s=v_cs.sum(0)"
   ]
  },
  {
   "cell_type": "code",
   "execution_count": null,
   "metadata": {},
   "outputs": [],
   "source": [
    "\n",
    "def med_rules(agent):\n",
    "    v_cs = np.array([neig.v_c for neig in model.grid.get_neighbors(agent.pos,moore=True)])\n",
    "    s = v_cs.sum(0)\n",
    "    \n",
    "    if s[1] > s[0] and s[1] > s[2]: #1 medio \n",
    "        agent.v_c = D['M']\n",
    "            \n",
    "    elif s[0] < s[2] and s[1] < s[2]: #2 medio\n",
    "        agent.v_c = D['AM']\n",
    "    \n",
    "    elif s[2] < s[0] and s[1] < s[0]: #3 medio\n",
    "        agent.v_c = D['MB']\n",
    "            \n",
    "    elif s[0] == s[2]: #4 medio \n",
    "        agent.v_c = D['AMB']\n",
    "            \n",
    "def alt_rules(agent):\n",
    "    v_cs = np.array([neig.v_c for neig in model.grid.get_neighbors(agent.pos,moore=True)])\n",
    "    s = v_cs.sum(0)\n",
    "        \n",
    "    if s[2] > s[0] and s[2] > s[1]: #5 alto\n",
    "        agent.v_c = D['A']\n",
    "\n",
    "    elif s[1] > s[0] and s[1] > s[2]: #6 alto\n",
    "        agent.v_c = D['AM']\n",
    "\n",
    "    elif s[1] < s[0] and s[2] < s[0]: #7 alto\n",
    "        agent.v_c = D['AB']\n",
    "\n",
    "    elif s[0] == s[1]: #8 alto\n",
    "        agent.v_c = D['AMB']\n",
    "\n",
    "def vc_update(agent):\n",
    "    #posibles v_c\n",
    "    D=dict(B=np.array([1,0,0]), M=np.array([0,1,0]), A=np.array([0,0,1]),\n",
    "        MB=np.array([1,1,0]), AB=np.array([1,0,1]), AM=np.array([0,1,1]),\n",
    "        AMB=np.array([1,1,1]))\n",
    "    \n",
    "    # Clases sociales \n",
    "    \n",
    "    D_med=[D['M'], D['MB'], D['AM']] # media: reglas 2,3,4,5\n",
    "    D_alt=[D['A'], D['AB'], D['AMB']] #alta: reglas 6,7,8,9\n",
    "    \n",
    "    #checking class\n",
    "    \n",
    "    bool_bajo=(agent.v_c == D['B']).all()\n",
    "    bool_med = [(agent.v_c == j).all() for j in D_med]\n",
    "    bool_alt = [(agent.v_c == j).all() for j in D_alt]\n",
    "    \n",
    "    if bool_bajo:\n",
    "        \n",
    "        print('Es de clase baja')\n",
    "        agent.v_c = agent.v_c\n",
    "        \n",
    "    elif True in bool_med:\n",
    "        \n",
    "        print('Es de clase media')\n",
    "        med_rules(agent)   \n",
    "        \n",
    "    else:\n",
    "        print('Es de clase alta')\n",
    "        alt_rules(agent)\n",
    "        "
   ]
  },
  {
   "cell_type": "code",
   "execution_count": null,
   "metadata": {},
   "outputs": [],
   "source": [
    "a=rm.choice(model.schedule.agents)\n",
    "print(a.v_c)"
   ]
  },
  {
   "cell_type": "code",
   "execution_count": null,
   "metadata": {},
   "outputs": [],
   "source": [
    "print(a.v_c)\n",
    "v_cs = np.array([neig.v_c for neig in model.grid.get_neighbors(a.pos,moore=True)])\n",
    "s = v_cs.sum(0)\n",
    "print(s)\n",
    "vc_update(a)\n",
    "print(a.v_c)"
   ]
  },
  {
   "cell_type": "code",
   "execution_count": null,
   "metadata": {},
   "outputs": [],
   "source": [
    "model=KeynesModel(100,10,10,15,35,50)\n",
    "a=rm.choice(model.schedule.agents)"
   ]
  },
  {
   "cell_type": "code",
   "execution_count": null,
   "metadata": {},
   "outputs": [],
   "source": [
    "model.step()"
   ]
  },
  {
   "cell_type": "code",
   "execution_count": null,
   "metadata": {},
   "outputs": [],
   "source": [
    "\n",
    "print(a.v_c)\n",
    "v_cs = np.array([neig.v_c for neig in model.grid.get_neighbors(a.pos,moore=True)])\n",
    "s = v_cs.sum(0)\n",
    "print(s)\n",
    "vc_update(a)\n",
    "print(a.v_c)"
   ]
  },
  {
   "cell_type": "markdown",
   "metadata": {},
   "source": [
    "# Reglas del modelo postkeynessiano"
   ]
  },
  {
   "cell_type": "code",
   "execution_count": null,
   "metadata": {},
   "outputs": [],
   "source": [
    "class KeynesAgent(Agent):\n",
    "    \"\"\"\n",
    "         Create a new PostKeynesian agent.\n",
    "         Args:\n",
    "            model: class model in wich the agent lives\n",
    "            pos: Posicion of the agent (tuple or list?)\n",
    "            v_c: Consume vector: informacion about the consuming behavior of the agent\n",
    "                    (tuple, list, or numpy vector??)\n",
    "        \"\"\"\n",
    "\n",
    "    def __init__(self, model, pos, v_c):\n",
    "        #self.model=model\n",
    "        super().__init__(pos, model)\n",
    "        self.pos = pos\n",
    "        self.v_c = v_c\n",
    "        \n",
    "    def med_rules(agent):\n",
    "        v_cs = np.array([neig.v_c for neig in model.grid.get_neighbors(agent.pos,moore=True)])\n",
    "        s = v_cs.sum(0)\n",
    "\n",
    "        if s[1] > s[0] and s[1] > s[2]: #1 medio \n",
    "            agent.v_c = D['M']\n",
    "\n",
    "        elif s[0] < s[2] and s[1] < s[2]: #2 medio\n",
    "            agent.v_c = D['AM']\n",
    "\n",
    "        elif s[2] < s[0] and s[1] < s[0]: #3 medio\n",
    "            agent.v_c = D['MB']\n",
    "\n",
    "        elif s[0] == s[2]: #4 medio \n",
    "            agent.v_c = D['AMB']    \n",
    "        \n",
    "\n",
    "    def alt_rules(agent):\n",
    "        v_cs = np.array([neig.v_c for neig in model.grid.get_neighbors(agent.pos,moore=True)])\n",
    "        s = v_cs.sum(0)\n",
    "\n",
    "        if s[2] > s[0] and s[2] > s[1]: #5 alto\n",
    "            agent.v_c = D['A']\n",
    "\n",
    "        elif s[1] > s[0] and s[1] > s[2]: #6 alto\n",
    "            agent.v_c = D['AM']\n",
    "\n",
    "        elif s[1] < s[0] and s[2] < s[0]: #7 alto\n",
    "            agent.v_c = D['AB']\n",
    "\n",
    "        elif s[0] == s[1]: #8 alto\n",
    "            agent.v_c = D['AMB']\n",
    "\n",
    "    def vc_update(self):\n",
    "        #posibles v_c\n",
    "        D=dict(B=np.array([1,0,0]), M=np.array([0,1,0]), A=np.array([0,0,1]),\n",
    "            MB=np.array([1,1,0]), AB=np.array([1,0,1]), AM=np.array([0,1,1]),\n",
    "            AMB=np.array([1,1,1]))\n",
    "\n",
    "        # Clases sociales \n",
    "\n",
    "        D_med=[D['M'], D['MB'], D['AM']] # media: reglas 2,3,4,5\n",
    "        D_alt=[D['A'], D['AB'], D['AMB']] #alta: reglas 6,7,8,9\n",
    "\n",
    "        #checking class\n",
    "\n",
    "        bool_bajo=(self.v_c == D['B']).all()\n",
    "        bool_med = [(self.v_c == j).all() for j in D_med]\n",
    "        bool_alt = [(self.v_c == j).all() for j in D_alt]\n",
    "\n",
    "        if bool_bajo:\n",
    "\n",
    "            #print('Es de clase baja')\n",
    "            self.v_c = self.v_c\n",
    "\n",
    "        elif True in bool_med:\n",
    "\n",
    "            #print('Es de clase media')\n",
    "            med_rules(self)   \n",
    "\n",
    "        else:\n",
    "            #print('Es de clase alta')\n",
    "            alt_rules(self)\n",
    "            \n",
    "    def proba_update(self): #buscar como poner un atributo de clase para el diccionario de los \n",
    "                            # vectores y selección de clase y no repetirme\n",
    "        pass\n",
    "                \n",
    "    def step(self):\n",
    "        self.vc_update()\n",
    "\n",
    "\n",
    "           \n",
    "            \n",
    "#     #Metodos a escribir\n",
    "        \n",
    "        "
   ]
  },
  {
   "cell_type": "code",
   "execution_count": null,
   "metadata": {},
   "outputs": [],
   "source": [
    "class KeynesModel(Model):\n",
    "    \n",
    "    \"\"\"Model class for the Postkeynessian consumer model\"\"\"\n",
    "    def __init__(self, N, m, n, n_b, n_m, n_a):\n",
    "        \"\"\"\n",
    "        N = numero de agentes\n",
    "        m x n = numero total de celdas del modelo\n",
    "            m = numero de filas\n",
    "            n = numero de columnas\n",
    "        *args = lista/tupla (??) con entradas n_b , n_m , n_a, donde\n",
    "            n_b = numero de agentes de clase baja\n",
    "            n_m = numero de agentes de clase media\n",
    "            n_a = numero de agentes de clase alta\n",
    "        \"\"\"\n",
    "        args=(n_b,n_m,n_a)\n",
    "        if np.array(args).sum() != N:\n",
    "            print(\"Error, la suma de agentes de cada clase no es igual a N\")\n",
    "        else:\n",
    "            self.num_agents = N\n",
    "            self.grid = SingleGrid(m, n, torus=True)\n",
    "            #self.schedule = SimultaneousActivation(self)\n",
    "            self.schedule = RandomActivation(self)\n",
    "            self.running = True\n",
    "        \n",
    "            #CREATE AGENTS\n",
    "            # matrix of all coordinates, ramdom choosing from this to set agent's position and \n",
    "            # then  must asign V_c from a list of numpy arrays\n",
    "            # order: clase baja, clase media, clase alta\n",
    "            \n",
    "            M=[(i,j) for i in range(m) for j in range(n)] #matriz de posiciones\n",
    "            n_b, n_m, n_a=args[0], args[1], args[2] #linea innsecesaria\n",
    "            for j in range(3):\n",
    "                v_c=[0,0,0]\n",
    "                for i in range(args[j]):\n",
    "                    v_c[j]=1\n",
    "                    pos=M.pop(M.index(rm.choice(M)))\n",
    "                    #print(pos)\n",
    "                    v_c=np.array(v_c)\n",
    "                    a=KeynesAgent(self,pos,v_c)\n",
    "                    self.schedule.add(a)\n",
    "                    self.grid.position_agent(a, pos) \n",
    "\n",
    "    def step(self):\n",
    "        #self.datacollector.collect(self)\n",
    "        self.schedule.step()\n",
    "        "
   ]
  },
  {
   "cell_type": "code",
   "execution_count": null,
   "metadata": {},
   "outputs": [],
   "source": [
    "from mesa.visualization.modules import CanvasGrid\n",
    "from mesa.visualization.ModularVisualization import ModularServer"
   ]
  },
  {
   "cell_type": "code",
   "execution_count": null,
   "metadata": {},
   "outputs": [],
   "source": [
    "def agent_portrayal(agent):\n",
    "    portrayal = {\"Shape\": \"circle\",\n",
    "                 \"Filled\": \"true\",\n",
    "                 \"Layer\": 0,\n",
    "                 \"r\": 0.5}\n",
    "    \n",
    "    D=dict(B=np.array([1,0,0]), M=np.array([0,1,0]), A=np.array([0,0,1]),\n",
    "       MB=np.array([1,1,0]), AB=np.array([1,0,1]), AM=np.array([0,1,1]),\n",
    "       AMB=np.array([1,1,1]))\n",
    "    \n",
    "    if (agent.v_c == D['B']).all() :\n",
    "        portrayal[\"Color\"] = \"red\"\n",
    "        \n",
    "    elif (agent.v_c == D['M']).all():\n",
    "        portrayal[\"Color\"] = \"green\" \n",
    "#     else:\n",
    "#         portrayal[\"Color\"] = \"blue\"\n",
    "    elif (agent.v_c == D['A']).all():\n",
    "        portrayal[\"Color\"] = \"blue\"\n",
    "        \n",
    "    elif (agent.v_c == D['MB']).all():\n",
    "        portrayal[\"Color\"] = \"yellow\"\n",
    "        \n",
    "    elif (agent.v_c == D['AB']).all():\n",
    "        portrayal[\"Color\"] = \"#FF1493\" #rosa mexicano\n",
    "        \n",
    "    elif (agent.v_c == D['AM']).all():\n",
    "        portrayal[\"Color\"] = \"#48D1CC\" #turquesa bonito\n",
    "        \n",
    "    elif (agent.v_c == D['AMB']).all():\n",
    "        portrayal[\"Color\"] = \"#000000\" #negro\n",
    "    else :\n",
    "        portrayal[\"Color\"] = \"#FFFFFF\" #blanco\n",
    "        \n",
    "        \n",
    "    return portrayal"
   ]
  },
  {
   "cell_type": "code",
   "execution_count": null,
   "metadata": {},
   "outputs": [],
   "source": [
    "30*30"
   ]
  },
  {
   "cell_type": "code",
   "execution_count": null,
   "metadata": {},
   "outputs": [],
   "source": [
    "N=100\n",
    "m=10\n",
    "n=10\n",
    "nb=25\n",
    "nm=50\n",
    "na=25"
   ]
  },
  {
   "cell_type": "code",
   "execution_count": null,
   "metadata": {},
   "outputs": [],
   "source": [
    "grid = CanvasGrid(agent_portrayal, m, n, 500, 500)\n",
    "server = ModularServer(KeynesModel,\n",
    "                       [grid],\n",
    "                       \"Post-Keynesian Model\",\n",
    "                       {\"N\":N, \"m\":m, \"n\":n, \"n_b\":nb, \"n_m\":nm, \"n_a\":na})\n",
    "server.port = 8730# The default\n",
    "server.launch()"
   ]
  },
  {
   "cell_type": "markdown",
   "metadata": {},
   "source": []
  },
  {
   "cell_type": "code",
   "execution_count": null,
   "metadata": {},
   "outputs": [],
   "source": [
    "N=100\n",
    "m=10\n",
    "n=10\n",
    "nb=33\n",
    "nm=33\n",
    "na=34\n",
    "model=KeynesModel(N,m,n,nb,nm,na)"
   ]
  },
  {
   "cell_type": "code",
   "execution_count": null,
   "metadata": {},
   "outputs": [],
   "source": [
    "a=model.schedule.agents[40]\n",
    "print(f'La posicion del agente es: {a.pos}')\n",
    "print(f'El V_c es: {a.v_c}')\n",
    "compara=np.array([np.array([0,0,0]) for i in range(8)])\n",
    "o=model.grid.get_neighbors(a.pos,moore=True)\n",
    "o_pos=[j.pos for j in o]\n",
    "print(f'Las pociones delos vecinos son{len(o_pos)}:')\n",
    "print(o_pos)\n",
    "print('Los vectores de consumo de los vecinos son')\n",
    "t=[j.v_c for j in o]\n",
    "print(t)\n",
    "print(f'La suma de las practicas de consumo es: {np.array(t).sum(0)}')"
   ]
  },
  {
   "cell_type": "code",
   "execution_count": null,
   "metadata": {},
   "outputs": [],
   "source": [
    "model.step()\n",
    "o=model.grid.get_neighbors(a.pos,moore=True)\n",
    "o_vcs=[j.v_c for j in o]\n",
    "print(f'Los nuevos vectores de consumo vecinos son {len(o_vcs)}:')\n",
    "print(o_vcs)\n",
    "print(f'La suma de pcraticas de consumo es: {np.array(o_vcs).sum(0)}')\n",
    "print('El nuevo vector de consumo del agente es:')\n",
    "print(a.v_c)\n",
    "# o=model.grid.get_neighbors(a.pos,moore=True)\n",
    "# o_pos=[j.pos for j in o]\n",
    "# print(o_pos)"
   ]
  },
  {
   "cell_type": "code",
   "execution_count": null,
   "metadata": {},
   "outputs": [],
   "source": [
    "\n",
    "o=model.grid.get_neighbors(model.schedule.agents[i].pos,moore=True)"
   ]
  },
  {
   "cell_type": "code",
   "execution_count": null,
   "metadata": {},
   "outputs": [],
   "source": [
    "oo=[[j.v_c,j.pos] for j in o]\n",
    "print(oo)"
   ]
  },
  {
   "cell_type": "code",
   "execution_count": null,
   "metadata": {},
   "outputs": [],
   "source": [
    "# this is a flip coin with random module\n",
    "#draws=[]\n",
    "# for i in range(1000):\n",
    "#     a=rm.choices(range(2),cum_weights=[0.25,0.75])\n",
    "#     draws.append(a[0]) importante el index pues choices regresa una lista\n",
    "draws=[rm.choices(range(2),cum_weights=[0.25,0.75])[0] for i in range(1000)]\n",
    "print(draws.count(1))\n",
    "print(draws.count(0))\n",
    "plt.hist(draws)\n",
    "#For a script add the following line\n",
    "plt.show()"
   ]
  },
  {
   "cell_type": "code",
   "execution_count": null,
   "metadata": {},
   "outputs": [],
   "source": [
    "plt.hist(draws)\n",
    "#For a script add the following line\n",
    "plt.show()"
   ]
  },
  {
   "cell_type": "code",
   "execution_count": null,
   "metadata": {},
   "outputs": [],
   "source": []
  }
 ],
 "metadata": {
  "kernelspec": {
   "display_name": "Python 3",
   "language": "python",
   "name": "python3"
  },
  "language_info": {
   "codemirror_mode": {
    "name": "ipython",
    "version": 3
   },
   "file_extension": ".py",
   "mimetype": "text/x-python",
   "name": "python",
   "nbconvert_exporter": "python",
   "pygments_lexer": "ipython3",
   "version": "3.7.4"
  }
 },
 "nbformat": 4,
 "nbformat_minor": 2
}
