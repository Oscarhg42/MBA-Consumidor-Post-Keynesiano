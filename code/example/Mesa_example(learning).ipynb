{
 "cells": [
  {
   "cell_type": "markdown",
   "metadata": {},
   "source": [
    "# Intro"
   ]
  },
  {
   "cell_type": "markdown",
   "metadata": {},
   "source": [
    "Este notebook contiene un ejemplo básico del uso de <code> mesa </code> para el modelado basado en agentes. Este ejemplo es desarrollado en el [turorial] (https://mesa.readthedocs.io/en/master/tutorials/intro_tutorial.html#tutorial-description) básico en la página oficial de la documentacon de <code> mesa </code>.\n",
    "\n",
    "La base de este ejemplo, es un modelo básico de agentes intercambiando dinero como un enfoque básico al modelado de la distribución del ingreso ([Dragulescu 2002](http://arxiv.org/abs/cond-mat/0211175)). Las reglas básicas del modelo son las siguentes:\n",
    "\n",
    "   * N agentes\n",
    "   * Todos los agentes empeiazan con una unidad de dinero\n",
    "   * En cada paso (temporal), un agente da esa unidad de dinero (si lo tiene) a otro agente\n",
    "   "
   ]
  },
  {
   "cell_type": "markdown",
   "metadata": {},
   "source": [
    "Para iniciar con un modelo en mesa se crean dos clases basadas en las clases de mesa: Agent y Model\n"
   ]
  },
  {
   "cell_type": "code",
   "execution_count": 3,
   "metadata": {},
   "outputs": [],
   "source": [
    "from mesa import Agent, Model\n",
    "\n",
    "class MoneyAgent(Agent):\n",
    "    \"\"\"An agent with fixed initial wealth.\"\"\"\n",
    "    def __init__(self, unique_id, model):\n",
    "        super().__init__(unique_id, model)\n",
    "        self.wealth = 1\n",
    "\n",
    "class MoneyModel(Model):\n",
    "    \"\"\"A model with some number of agents.\"\"\"\n",
    "    def __init__(self, N):\n",
    "        self.num_agents = N\n",
    "        # Create agents\n",
    "        #self.list_of_agents=[] #yo puse esta lista para añadir los agentes creados por el modelo\n",
    "                            #pero debe haber un atributo en la parent class M que los guarde?\n",
    "        for i in range(self.num_agents):\n",
    "            a = MoneyAgent(i, self)\n",
    "            #self.list_of_agents.append(a)"
   ]
  },
  {
   "cell_type": "code",
   "execution_count": 4,
   "metadata": {},
   "outputs": [],
   "source": [
    "basico=MoneyModel(9)\n",
    "#basico.list_of_agents[8].wealth\n",
    "dir(basico)\n",
    "basico.step() #no hay nada definido en el parent ni en el child classes"
   ]
  },
  {
   "cell_type": "markdown",
   "metadata": {},
   "source": [
    "Añadiendo las funciones de pasos y <code> scheduler </code>"
   ]
  },
  {
   "cell_type": "code",
   "execution_count": 5,
   "metadata": {},
   "outputs": [],
   "source": [
    "from mesa import Agent, Model\n",
    "from mesa.time import RandomActivation\n",
    "\n",
    "class MoneyAgent(Agent):\n",
    "    \"\"\"An agent with fixed initial wealth.\"\"\" #Atributos iniciales del agente\n",
    "    def __init__(self, unique_id, model):\n",
    "        super().__init__(unique_id, model)\n",
    "        self.wealth = 1\n",
    "        \n",
    "    def step(self): #Acción que realiza el agente cuando es 'activado'\n",
    "        print(f'Hola, soy el {self.unique_id}-ésimo agente')\n",
    "        self.wealth +=1 #aumenta su riqueza en una unidad\n",
    "        print(f'Mi nueva riqueza es {self.wealth}') #imprime su nueva riqueza\n",
    "        \n",
    "\n",
    "class MoneyModel(Model):\n",
    "    \"\"\"A model with some number of agents.\"\"\"\n",
    "    def __init__(self, N): #atributos del modelo\n",
    "        self.num_agents = N\n",
    "        self.schedule = RandomActivation(self)\n",
    "        # Create agents\n",
    "        for i in range(self.num_agents):\n",
    "            a = MoneyAgent(i, self)\n",
    "            self.schedule.add(a)\n",
    "            \n",
    "    def step(self):\n",
    "        '''Avanza el modelo un paso'''\n",
    "        self.schedule.step()"
   ]
  },
  {
   "cell_type": "code",
   "execution_count": 6,
   "metadata": {},
   "outputs": [],
   "source": [
    "modelo_1=MoneyModel(10)"
   ]
  },
  {
   "cell_type": "code",
   "execution_count": 7,
   "metadata": {},
   "outputs": [
    {
     "data": {
      "text/plain": [
       "list"
      ]
     },
     "execution_count": 7,
     "metadata": {},
     "output_type": "execute_result"
    }
   ],
   "source": [
    "type(modelo_1.schedule.agents) #esta es la lista de los agentes creados al crear el modelo "
   ]
  },
  {
   "cell_type": "code",
   "execution_count": 8,
   "metadata": {},
   "outputs": [
    {
     "name": "stdout",
     "output_type": "stream",
     "text": [
      "Hola, soy el 8-ésimo agente\n",
      "Mi nueva riqueza es 2\n",
      "Hola, soy el 0-ésimo agente\n",
      "Mi nueva riqueza es 2\n",
      "Hola, soy el 9-ésimo agente\n",
      "Mi nueva riqueza es 2\n",
      "Hola, soy el 5-ésimo agente\n",
      "Mi nueva riqueza es 2\n",
      "Hola, soy el 4-ésimo agente\n",
      "Mi nueva riqueza es 2\n",
      "Hola, soy el 6-ésimo agente\n",
      "Mi nueva riqueza es 2\n",
      "Hola, soy el 2-ésimo agente\n",
      "Mi nueva riqueza es 2\n",
      "Hola, soy el 3-ésimo agente\n",
      "Mi nueva riqueza es 2\n",
      "Hola, soy el 7-ésimo agente\n",
      "Mi nueva riqueza es 2\n",
      "Hola, soy el 1-ésimo agente\n",
      "Mi nueva riqueza es 2\n"
     ]
    }
   ],
   "source": [
    "modelo_1.step()"
   ]
  },
  {
   "cell_type": "markdown",
   "metadata": {},
   "source": [
    "Ahora se modifica el paso del agente para que le de su riqueza a un agente de manera random con las paqueterías random que incluye mesa"
   ]
  },
  {
   "cell_type": "code",
   "execution_count": 91,
   "metadata": {},
   "outputs": [],
   "source": [
    "from mesa import Agent, Model\n",
    "from mesa.time import RandomActivation\n",
    "import random as rm\n",
    "\n",
    "class MoneyAgent(Agent):\n",
    "    \"\"\"An agent with fixed initial wealth.\"\"\" #Atributos iniciales del agente\n",
    "    def __init__(self, unique_id, model):\n",
    "        super().__init__(unique_id, model)\n",
    "        self.wealth = 1\n",
    "        \n",
    "    def step(self):\n",
    "        if self.wealth == 0:\n",
    "            #print(f'El {self.unique_id}-ésimo agente no tiene riqueza')\n",
    "            return\n",
    "        other_agent=rm.choice(self.model.schedule.agents) #using  simple random choice from python\n",
    "        #other_agent = self.random.choice(self.model.schedule.agents) #metodos para seleccion \n",
    "                                                                  #aleatoria de mesa\n",
    "                    #lo que esta en el ultimo parentesis es la lista de agentes que se creo para \n",
    "                    # en scheduler\n",
    "        other_agent.wealth += 1\n",
    "        self.wealth -= 1\n",
    "        #print(f'soy el agente {self.unique_id} y tengoo {self.wealth} riqueza')\n",
    "    \n",
    "        \n",
    "class MoneyModel(Model):\n",
    "    \"\"\"A model with some number of agents.\"\"\"\n",
    "    def __init__(self, N): #atributos del modelo\n",
    "        self.num_agents = N\n",
    "        self.schedule = RandomActivation(self)\n",
    "        # Create agents\n",
    "        for i in range(self.num_agents):\n",
    "            a = MoneyAgent(i, self)\n",
    "            self.schedule.add(a)\n",
    "            \n",
    "    def step(self):\n",
    "        '''Avanza el modelo un paso'''\n",
    "        self.schedule.step()"
   ]
  },
  {
   "cell_type": "code",
   "execution_count": 92,
   "metadata": {},
   "outputs": [],
   "source": [
    "model = MoneyModel(100)\n",
    "for i in range(10):\n",
    "    model.step()\n",
    "    #print('End of step')\n",
    "for item in model.schedule.agents: #esto imprime la riqueza de los agentes pero no estan en \n",
    "                                    #orden porque es la lista del random scheduler\n",
    "    #print(f'La riqueza del {item.unique_id} agente es {item.wealth}') #al parecer la lista si \n",
    "    pass                                                    #es ordenada\n"
   ]
  },
  {
   "cell_type": "markdown",
   "metadata": {},
   "source": [
    "**Obteniendo datos del modelo**\n",
    "\n",
    "\"Next, we need to get some data out of the model. Specifically, we want to see the distribution of the agent’s wealth. We can get the wealth values with list comprehension, and then use matplotlib (or another graphics library) to visualize the data in a histogram.\""
   ]
  },
  {
   "cell_type": "code",
   "execution_count": 93,
   "metadata": {},
   "outputs": [
    {
     "data": {
      "image/png": "[encoded data removed]",
      "text/plain": [
       "<Figure size 432x288 with 1 Axes>"
      ]
     },
     "metadata": {
      "needs_background": "light"
     },
     "output_type": "display_data"
    }
   ],
   "source": [
    "# The below is needed for both notebooks and scripts\n",
    "import matplotlib.pyplot as plt\n",
    "\n",
    "# For jupyter notebook add the following line:\n",
    "%matplotlib inline\n",
    "\n",
    "agent_wealth = [a.wealth for a in model.schedule.agents] #list comprehension :)\n",
    "plt.hist(agent_wealth)\n",
    "#For a script add the following line\n",
    "plt.show()"
   ]
  },
  {
   "cell_type": "markdown",
   "metadata": {},
   "source": [
    "\"To get a better idea of how a model behaves, we can create multiple model runs and see the distribution that emerges from all of them. We can do this with a nested for loop:\""
   ]
  },
  {
   "cell_type": "code",
   "execution_count": 97,
   "metadata": {},
   "outputs": [],
   "source": [
    "all_wealth = []\n",
    "#This runs the model 100 times, each model executing 10 steps.\n",
    "for j in range(100):\n",
    "    # Run the model\n",
    "    model = MoneyModel(100)\n",
    "    for i in range(10):\n",
    "        model.step()\n",
    "\n",
    "    # Store the results\n",
    "    for agent in model.schedule.agents:\n",
    "        all_wealth.append(agent.wealth)"
   ]
  },
  {
   "cell_type": "code",
   "execution_count": 98,
   "metadata": {},
   "outputs": [
    {
     "data": {
      "image/png": "[encoded data removed]",
      "text/plain": [
       "<Figure size 432x288 with 1 Axes>"
      ]
     },
     "metadata": {
      "needs_background": "light"
     },
     "output_type": "display_data"
    }
   ],
   "source": [
    "plt.hist(all_wealth, bins=range(max(all_wealth)+1))\n",
    "plt.show()"
   ]
  },
  {
   "cell_type": "markdown",
   "metadata": {},
   "source": [
    "This runs 100 instantiations of the model, and runs each for 10 steps. (Notice that we set the histogram bins to be integers, since agents can only have whole numbers of wealth). This distribution looks a lot smoother. By running the model 100 times, we smooth out some of the ‘noise’ of randomness, and get to the model’s overall expected behavior.\n",
    "\n",
    "This outcome might be surprising. Despite the fact that all agents, on average, give and receive one unit of money every step, the model converges to a state where most agents have a small amount of money and a small number have a lot of money."
   ]
  },
  {
   "cell_type": "code",
   "execution_count": null,
   "metadata": {},
   "outputs": [],
   "source": []
  },
  {
   "cell_type": "code",
   "execution_count": null,
   "metadata": {},
   "outputs": [],
   "source": []
  },
  {
   "cell_type": "code",
   "execution_count": null,
   "metadata": {},
   "outputs": [],
   "source": []
  },
  {
   "cell_type": "markdown",
   "metadata": {},
   "source": [
    "# Referencias \n",
    "[Dragulescu2002] Drăgulescu, Adrian A., and Victor M. Yakovenko. “Statistical Mechanics of Money, Income, and Wealth: A Short Survey.” arXiv Preprint Cond-mat/0211175, 2002.\n",
    "[link](http://arxiv.org/abs/cond-mat/0211175)\n",
    "\n",
    "[Tutorial](https://mesa.readthedocs.io/en/master/tutorials/intro_tutorial.html#tutorial-description) in mesa.readthedocs.io "
   ]
  },
  {
   "cell_type": "code",
   "execution_count": null,
   "metadata": {},
   "outputs": [],
   "source": []
  }
 ],
 "metadata": {
  "kernelspec": {
   "display_name": "Python 3",
   "language": "python",
   "name": "python3"
  },
  "language_info": {
   "codemirror_mode": {
    "name": "ipython",
    "version": 3
   },
   "file_extension": ".py",
   "mimetype": "text/x-python",
   "name": "python",
   "nbconvert_exporter": "python",
   "pygments_lexer": "ipython3",
   "version": "3.7.4"
  }
 },
 "nbformat": 4,
 "nbformat_minor": 2
}
