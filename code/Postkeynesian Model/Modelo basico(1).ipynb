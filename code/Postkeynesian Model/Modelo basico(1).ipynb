{
 "cells": [
  {
   "cell_type": "code",
   "execution_count": 1,
   "metadata": {},
   "outputs": [],
   "source": [
    "from mesa import Agent, Model\n",
    "from mesa.space import SingleGrid\n",
    "from mesa.time import RandomActivation, SimultaneousActivation\n",
    "from mesa.datacollection import DataCollector\n",
    "import numpy as np\n",
    "import matplotlib.pyplot as plt\n",
    "import random as rm\n",
    "\n",
    "from mesa.visualization.modules import CanvasGrid\n",
    "from mesa.visualization.ModularVisualization import ModularServer\n",
    "\n"
   ]
  },
  {
   "cell_type": "code",
   "execution_count": 2,
   "metadata": {},
   "outputs": [],
   "source": [
    "from termcolor import colored\n"
   ]
  },
  {
   "cell_type": "markdown",
   "metadata": {
    "heading_collapsed": true
   },
   "source": [
    "# Random updating"
   ]
  },
  {
   "cell_type": "code",
   "execution_count": null,
   "metadata": {
    "hidden": true
   },
   "outputs": [],
   "source": [
    "class KeynesAgent(Agent):\n",
    "    \"\"\"\n",
    "         Create a new PostKeynesian agent.\n",
    "         Args:\n",
    "            model: class model in wich the agent lives\n",
    "            pos: Posicion of the agent (tuple or list?)\n",
    "            v_c: Consume vector: informacion about the consuming behavior of the agent\n",
    "                    (tuple, list, or numpy vector??)\n",
    "        \"\"\"\n",
    "    D=dict(B=np.array([1,0,0]), M=np.array([0,1,0]), A=np.array([0,0,1]),\n",
    "           MB=np.array([1,1,0]), AB=np.array([1,0,1]), AM=np.array([0,1,1]),\n",
    "           AMB=np.array([1,1,1]))\n",
    "    \n",
    "    # Clases sociales \n",
    "    \n",
    "    D_med=[D['M'], D['MB'], D['AM']] # media: reglas 2,3,4,5\n",
    "    D_alt=[D['A'], D['AB'], D['AMB']] # alta: reglas 2,3,4,5\n",
    "\n",
    "  \n",
    "\n",
    "    def __init__(self, model, pos, v_c):\n",
    "        #self.model=model\n",
    "        super().__init__(pos, model)\n",
    "        self.pos = pos\n",
    "        self.v_c = v_c\n",
    "        \n",
    "\n",
    "    def social_class(self):\n",
    "          #boolean selectors\n",
    "        bool_bajo=(self.v_c == KeynesAgent.D['B']).all()\n",
    "        bool_med = [(self.v_c == j).all() for j in KeynesAgent.D_med]\n",
    "        bool_alt = [(self.v_c == j).all() for j in KeynesAgent.D_alt]\n",
    "        #print(KeynesAgent.D_med)\n",
    "        if bool_bajo:\n",
    "        \n",
    "            print('Es de clase baja')\n",
    "            #agent.v_c = agent.v_c\n",
    "        \n",
    "        elif True in bool_med:\n",
    "        \n",
    "            print('Es de clase media')\n",
    "            #med_rules(agent)   \n",
    "        \n",
    "        else:\n",
    "            print('Es de clase alta')\n",
    "            #alt_rules(agent) \n",
    "        \n",
    "    #Metodos a escribir\n",
    "    def step(self):\n",
    "        ind = rm.choice(range(3))\n",
    "        self.v_c[ind] = abs(self.v_c[ind]-1)\n",
    "        #self.social_class()\n",
    "        #pass\n",
    "        "
   ]
  },
  {
   "cell_type": "code",
   "execution_count": null,
   "metadata": {
    "hidden": true
   },
   "outputs": [],
   "source": [
    "class KeynesModel(Model):\n",
    "    \n",
    "    \"\"\"Model class for the Postkeynessian consumer model\"\"\"\n",
    "    def __init__(self, N, m, n, n_b, n_m, n_a):\n",
    "        \"\"\"\n",
    "        N = numero de agentes\n",
    "        m x n = numero total de celdas del modelo\n",
    "            m = numero de filas\n",
    "            n = numero de columnas\n",
    "        *args = lista/tupla (??) con entradas n_b , n_m , n_a, donde\n",
    "            n_b = numero de agentes de clase baja\n",
    "            n_m = numero de agentes de clase media\n",
    "            n_a = numero de agentes de clase alta\n",
    "        \"\"\"\n",
    "        args=(n_b,n_m,n_a)\n",
    "        if np.array(args).sum() != N:\n",
    "            print(\"Error, la suma de agentes de cada clase no es igual a N\")\n",
    "        else:\n",
    "            self.num_agents = N\n",
    "            self.grid = SingleGrid(m, n, torus=True)\n",
    "            self.schedule = RandomActivation(self)\n",
    "            self.running = True\n",
    "        \n",
    "            #CREATE AGENTS\n",
    "            # matrix of all coordinates, ramdom choosing from this to set agent's position and \n",
    "            # then  must asign V_c from a list of numpy arrays\n",
    "            # order: clase baja, clase media, clase alta\n",
    "            \n",
    "            M=[(i,j) for i in range(m) for j in range(n)] #matriz de posiciones\n",
    "            n_b, n_m, n_a=args[0], args[1], args[2] #linea innsecesaria\n",
    "            for j in range(3):\n",
    "                v_c=[0,0,0]\n",
    "                for i in range(args[j]):\n",
    "                    v_c[j]=1\n",
    "                    #x = self.random.randrange(m)\n",
    "                    #y = self.random.randrange(n)\n",
    "                    #pos=(x,y)\n",
    "                    pos=M.pop(M.index(rm.choice(M)))\n",
    "                    #print(pos)\n",
    "                    v_c=np.array(v_c)\n",
    "                    a=KeynesAgent(self,pos,v_c)\n",
    "                    self.schedule.add(a)\n",
    "                    self.grid.position_agent(a,pos) \n",
    "            \n",
    "\n",
    "    def step(self):\n",
    "        #self.datacollector.collect(self)\n",
    "        self.schedule.step()\n",
    "        "
   ]
  },
  {
   "cell_type": "code",
   "execution_count": null,
   "metadata": {
    "hidden": true
   },
   "outputs": [],
   "source": [
    "#parametros del modelo\n",
    "N, m, n, nb, nm, na = 100,10,10,50,25,25"
   ]
  },
  {
   "cell_type": "code",
   "execution_count": null,
   "metadata": {
    "hidden": true
   },
   "outputs": [],
   "source": [
    "model=KeynesModel(N, m, n, nb, nm, na)"
   ]
  },
  {
   "cell_type": "raw",
   "metadata": {
    "hidden": true
   },
   "source": [
    "model.step()"
   ]
  },
  {
   "cell_type": "markdown",
   "metadata": {
    "heading_collapsed": true,
    "hidden": true
   },
   "source": [
    "## Visualización"
   ]
  },
  {
   "cell_type": "markdown",
   "metadata": {
    "heading_collapsed": true,
    "hidden": true
   },
   "source": [
    "### Portrayal"
   ]
  },
  {
   "cell_type": "code",
   "execution_count": null,
   "metadata": {
    "hidden": true
   },
   "outputs": [],
   "source": [
    "def agent_portrayal(agent):\n",
    "    portrayal = {\"Shape\": \"circle\",\n",
    "                 \"Filled\": \"true\",\n",
    "                 \"Layer\": 0,\n",
    "                 \"r\": 0.5}\n",
    "    \n",
    "    D=dict(B=np.array([1,0,0]), M=np.array([0,1,0]), A=np.array([0,0,1]),\n",
    "       MB=np.array([1,1,0]), AB=np.array([1,0,1]), AM=np.array([0,1,1]),\n",
    "       AMB=np.array([1,1,1]))\n",
    "    \n",
    "    if (agent.v_c == D['B']).all() :\n",
    "        portrayal[\"Color\"] = \"red\"\n",
    "        \n",
    "    elif (agent.v_c == D['M']).all():\n",
    "        portrayal[\"Color\"] = \"green\" \n",
    "#     else:\n",
    "#         portrayal[\"Color\"] = \"blue\"\n",
    "    elif (agent.v_c == D['A']).all():\n",
    "        portrayal[\"Color\"] = \"blue\"\n",
    "        \n",
    "    elif (agent.v_c == D['MB']).all():\n",
    "        portrayal[\"Color\"] = \"yellow\"\n",
    "        \n",
    "    elif (agent.v_c == D['AB']).all():\n",
    "        portrayal[\"Color\"] = \"#FF1493\" #rosa mexicano\n",
    "        \n",
    "    elif (agent.v_c == D['AM']).all():\n",
    "        portrayal[\"Color\"] = \"#48D1CC\" #turquesa bonito\n",
    "        \n",
    "    elif (agent.v_c == D['AMB']).all():\n",
    "        portrayal[\"Color\"] = \"#000000\" #negro\n",
    "    else :\n",
    "        portrayal[\"Color\"] = \"#FFFFFF\" #blanco\n",
    "        \n",
    "        \n",
    "    return portrayal"
   ]
  },
  {
   "cell_type": "markdown",
   "metadata": {
    "heading_collapsed": true,
    "hidden": true
   },
   "source": [
    "### Run"
   ]
  },
  {
   "cell_type": "raw",
   "metadata": {
    "hidden": true
   },
   "source": [
    "grid = CanvasGrid(agent_portrayal, m, n, 500, 500)\n",
    "server = ModularServer(KeynesModel,\n",
    "                       [grid],\n",
    "                       \"Post-Keynesian Model\",\n",
    "                       {\"N\":N, \"m\":m, \"n\":n, \"n_b\":nb, \"n_m\":nm, \"n_a\":na})\n",
    "server.port = 8553 # The default\n",
    "server.launch()"
   ]
  },
  {
   "cell_type": "markdown",
   "metadata": {},
   "source": [
    "# Reglas Carreon-Vite"
   ]
  },
  {
   "cell_type": "code",
   "execution_count": 8,
   "metadata": {},
   "outputs": [],
   "source": [
    "class KeynesAgent(Agent):\n",
    "    \"\"\"\n",
    "         Create a new PostKeynesian agent.\n",
    "         Args:\n",
    "            model: class model in wich the agent lives\n",
    "            pos: Posicion of the agent (tuple or list?)\n",
    "            v_c: Consume vector: informacion about the consuming behavior of the agent\n",
    "                    (tuple, list, or numpy vector??)\n",
    "        \"\"\"\n",
    "    D=dict(B=np.array([1,0,0]), M=np.array([0,1,0]), A=np.array([0,0,1]),\n",
    "           MB=np.array([1,1,0]), AB=np.array([1,0,1]), AM=np.array([0,1,1]),\n",
    "           AMB=np.array([1,1,1]))\n",
    "    \n",
    "    # Clases sociales \n",
    "    \n",
    "    D_med=[D['M'], D['MB'], D['AM']] # media: reglas 2,3,4,5\n",
    "    D_alt=[D['A'], D['AB'], D['AMB']] # alta: reglas 2,3,4,5\n",
    "\n",
    "#----------------------init method-------------------------------------------\n",
    "    \n",
    "    def __init__(self, model, pos, v_c):\n",
    "        #self.model=model\n",
    "        super().__init__(pos, model)\n",
    "        self.pos = pos\n",
    "        self.v_c = v_c\n",
    "        self.clase = None # será = -1 si el agente es pobre, 0 si medio, 1 si es alta\n",
    "#----------------------------posibles cambios: deberia cambiar?-------------------------\n",
    "#esta funcion no hace muy buen trabajo pues predice que siempre hay alguien que tiene \n",
    "#que cambiar, debo revisar lo que está haciendo \n",
    "    def should_I_change(self):\n",
    "        \n",
    "        bool_bajo=(self.v_c == KeynesAgent.D['B']).all()\n",
    "        bool_med = [(self.v_c == j).all() for j in KeynesAgent.D_med]\n",
    "        bool_alt = [(self.v_c == j).all() for j in KeynesAgent.D_alt]\n",
    "        compara = np.array([0,0,0])\n",
    "        \n",
    "        if bool_bajo:\n",
    "            print('soy pobre, yo no cambio')\n",
    "            pass\n",
    "        \n",
    "        elif True in bool_med:\n",
    "                    \n",
    "            v_cs = np.array([neig.v_c for neig in model.grid.get_neighbors(self.pos,moore=True)])\n",
    "            s = v_cs.sum(0)\n",
    "            \n",
    "            \n",
    "            if s[1] > s[0] and s[1] > s[2]: #1 medio \n",
    "                compara = KeynesAgent.D['M']\n",
    "\n",
    "            elif s[0] < s[2] and s[1] < s[2]: #2 medio\n",
    "                compara = KeynesAgent.D['AM']\n",
    "\n",
    "            elif s[2] < s[0] and s[1] < s[0]: #3 medio\n",
    "                compara = KeynesAgent.D['MB']\n",
    "\n",
    "            elif s[0] == s[2]: #4 medio \n",
    "                compara = KeynesAgent.D['AMB']\n",
    "       \n",
    "            if (self.v_c == compara).all():\n",
    "                print('no debo cambiar')\n",
    "                #pass\n",
    "            else:\n",
    "                print(colored('debo cambiar','green'))\n",
    "                self.model.count +=1\n",
    "                self.model.count_cord.append(self.pos)\n",
    "                \n",
    "        else:\n",
    "            v_cs = np.array([neig.v_c for neig in model.grid.get_neighbors(self.pos,moore=True)])\n",
    "            s = v_cs.sum(0)\n",
    "            compara=np.array([0,0,0])\n",
    "\n",
    "            if s[2] > s[0] and s[2] > s[1]: #5 alto\n",
    "                compara = KeynesAgent.D['A']\n",
    "\n",
    "            elif s[1] > s[0] and s[1] > s[2]: #6 alto\n",
    "                compara = KeynesAgent.D['AM']\n",
    "\n",
    "            elif s[1] < s[0] and s[2] < s[0]: #7 alto\n",
    "                compara = KeynesAgent.D['AB']\n",
    "\n",
    "            elif s[0] == s[1]: #8 alto\n",
    "                compara = KeynesAgent.D['AMB']\n",
    "                \n",
    "            if (self.v_c == compara).all():\n",
    "                #pass\n",
    "                print('no deberia cambior')\n",
    "            else:\n",
    "                print(colored('debo cambiar', 'blue'))\n",
    "                self.model.count +=1\n",
    "                self.model.count_cord.append(self.pos)\n",
    "#-------------------------------------------------------------------------------------\n",
    "\n",
    "#------------------------------CONSUMO POR MODA--------------------------------------- \n",
    "\n",
    "    #reglas de actualización para clase baja\n",
    "    def med_rules(self):\n",
    "        v_cs = np.array([neig.v_c for neig in model.grid.get_neighbors(self.pos,moore=True)])\n",
    "        s = v_cs.sum(0)\n",
    "\n",
    "        if s[1] > s[0] and s[1] > s[2]: #1 medio \n",
    "            self.v_c = KeynesAgent.D['M']\n",
    "\n",
    "        elif s[0] < s[2] and s[1] < s[2]: #2 medio\n",
    "            self.v_c = KeynesAgent.D['AM']\n",
    "\n",
    "        elif s[2] < s[0] and s[1] < s[0]: #3 medio\n",
    "            self.v_c = KeynesAgent.D['MB']\n",
    "\n",
    "        elif s[0] == s[2]: #4 medio \n",
    "            self.v_c = KeynesAgent.D['AMB']\n",
    "\n",
    "    #reglas de actualización para clase alta\n",
    "    def alt_rules(self):\n",
    "        v_cs = np.array([neig.v_c for neig in model.grid.get_neighbors(self.pos,moore=True)])\n",
    "        s = v_cs.sum(0)\n",
    "\n",
    "        if s[2] > s[0] and s[2] > s[1]: #5 alto\n",
    "            self.v_c = KeynesAgent.D['A']\n",
    "\n",
    "        elif s[1] > s[0] and s[1] > s[2]: #6 alto\n",
    "            self.v_c = KeynesAgent.D['AM']\n",
    "\n",
    "        elif s[1] < s[0] and s[2] < s[0]: #7 alto\n",
    "            self.v_c = KeynesAgent.D['AB']\n",
    "\n",
    "        elif s[0] == s[1]: #8 alto\n",
    "            self.v_c = KeynesAgent.D['AMB']\n",
    "\n",
    "    def vc_update(self):\n",
    "        \n",
    "        #boolean selectors to select social belonging class\n",
    "            \n",
    "        bool_bajo=(self.v_c == KeynesAgent.D['B']).all()\n",
    "        bool_med = [(self.v_c == j).all() for j in KeynesAgent.D_med]\n",
    "        bool_alt = [(self.v_c == j).all() for j in KeynesAgent.D_alt]\n",
    "        #print(KeynesAgent.D_med)\n",
    "        #print(f'v_c inicial:{self.v_c}')\n",
    "        \n",
    "        ini = self.v_c #vector de consumo inicial\n",
    "        \n",
    "        if bool_bajo:\n",
    "        \n",
    "            #print('Es de clase baja')\n",
    "            self.clase = -1\n",
    "            self.v_c = self.v_c\n",
    "        \n",
    "        elif True in bool_med:\n",
    "        \n",
    "            #print('Es de clase media')\n",
    "            self.clase = 0\n",
    "            self.med_rules()   \n",
    "           # print(f'nuevo {self.v_c}')\n",
    "           \n",
    "        else:\n",
    "            #print('Es de clase alta')\n",
    "            self.clase = 1\n",
    "            self.alt_rules()\n",
    "            #print(f'nuevo {self.v_c}')\n",
    "            \n",
    "        #print(f'v_c final:{self.v_c}')\n",
    "#             \n",
    "#         fin = self.v_c #vector de consumo al que se actualizo\n",
    "#         if (fin-ini == np.array([0,0,0])).all():\n",
    "#             pass\n",
    "#         else:\n",
    "#             print(colored(fin-ini,'blue'))\n",
    "#----------------------------------------------------------------------------------\n",
    "            \n",
    "#----------------------------CONSUMO POR IMITACION---------------------------------\n",
    "#modelo probabilistico de transito entre clases\n",
    "                  \n",
    "    def proba(self):\n",
    "#         bool_bajo=(self.v_c == KeynesAgent.D['B']).all()# creo ya no es necesario esto\n",
    "#                                                         #utilizando el atributo \"clase\"\n",
    "#                                                         #del agente        \n",
    "#         bool_med = [(self.v_c == j).all() for j in KeynesAgent.D_med]\n",
    "#         bool_alt = [(self.v_c == j).all() for j in KeynesAgent.D_alt]\n",
    "   \n",
    "                  \n",
    "        if self.clase == -1:\n",
    "\n",
    "            coin = rm.choices([0,1], weights=[0.5,0.5] )[0]\n",
    "            if coin == 1:\n",
    "                self.v_c = rm.choice(KeynesAgent.D_med)\n",
    "                self.clase = 0\n",
    "\n",
    "        elif self.clase == 0:\n",
    "\n",
    "            coin3 = rm.choices([-1,0,1], weights=[0.33,0.34,0.33] )[0]\n",
    "            \n",
    "            if coin3 == -1:\n",
    "                self.vc = KeynesAgent.D['B']\n",
    "                self.clase = -1\n",
    "            elif coin3 == 1:\n",
    "                self.vc = rm.choice(KeynesAgent.D_alt)\n",
    "                self.clase = 1\n",
    "                \n",
    "        elif self.clase == 1:\n",
    "            coin = rm.choices([0,1], weights=[0.5,0.5] )[0]\n",
    "            if coin == 1:\n",
    "                self.vc = rm.choice(KeynesAgent.D_med)\n",
    "                self.clase = 0\n",
    "    \n",
    "#---------------------- STEP METHOD ---------------------------------\n",
    "    def step(self):\n",
    "#         ind = rm.choice(range(3))\n",
    "#         self.v_c[ind] = abs(self.v_c[ind]-1)\n",
    "        #self.should_I_change()\n",
    "    \n",
    "    #ojo con el orden de activación\n",
    "        \n",
    "        #self.vc_update()\n",
    "        self.proba()\n",
    "        \n",
    "        #pass\n",
    "    "
   ]
  },
  {
   "cell_type": "code",
   "execution_count": 9,
   "metadata": {},
   "outputs": [],
   "source": [
    "class KeynesModel(Model):\n",
    "    \n",
    "    \"\"\"Model class for the Postkeynessian consumer model\"\"\"\n",
    "    def __init__(self, N, m, n, n_b, n_m, n_a):\n",
    "        \"\"\"\n",
    "        N = numero de agentes\n",
    "        m x n = numero total de celdas del modelo\n",
    "            m = numero de filas\n",
    "            n = numero de columnas\n",
    "        *args = lista/tupla (??) con entradas n_b , n_m , n_a, donde\n",
    "            n_b = numero de agentes de clase baja\n",
    "            n_m = numero de agentes de clase media\n",
    "            n_a = numero de agentes de clase alta\n",
    "        \"\"\"\n",
    "        args=(n_b,n_m,n_a)\n",
    "        if np.array(args).sum() != N:\n",
    "            print(\"Error, la suma de agentes de cada clase no es igual a N\")\n",
    "        else:\n",
    "            self.num_agents = N\n",
    "            self.grid = SingleGrid(m, n, torus=True)\n",
    "            self.schedule = RandomActivation(self)\n",
    "            self.running = True\n",
    "            self.count = 0\n",
    "            self.count_cord = []\n",
    "        \n",
    "            #CREATE AGENTS\n",
    "            # matrix of all coordinates, ramdom choosing from this to set agent's position and \n",
    "            # then  must asign V_c from a list of numpy arrays\n",
    "            # order: clase baja, clase media, clase alta\n",
    "            \n",
    "            M=[(i,j) for i in range(m) for j in range(n)] #matriz de posiciones\n",
    "            n_b, n_m, n_a=args[0], args[1], args[2] #linea innsecesaria\n",
    "            for j in range(3):\n",
    "                v_c=[0,0,0]\n",
    "                for i in range(args[j]):\n",
    "                    v_c[j]=1\n",
    "                    #x = self.random.randrange(m)\n",
    "                    #y = self.random.randrange(n)\n",
    "                    #pos=(x,y)\n",
    "                    pos=M.pop(M.index(rm.choice(M)))\n",
    "                    #print(pos)\n",
    "                    v_c=np.array(v_c)\n",
    "                    a=KeynesAgent(self,pos,v_c)\n",
    "                    a.clase = j-1\n",
    "                    self.schedule.add(a)\n",
    "                    self.grid.position_agent(a,pos) \n",
    "            \n",
    "\n",
    "    def step(self):\n",
    "        #self.datacollector.collect(self)\n",
    "        self.count=0\n",
    "        self.count_cord = []\n",
    "        self.schedule.step()\n",
    "        \n",
    "        "
   ]
  },
  {
   "cell_type": "code",
   "execution_count": 11,
   "metadata": {},
   "outputs": [],
   "source": [
    "#parametros del modelo\n",
    "N, m, n, nb, nm, na = 100,10,10,50,25,25"
   ]
  },
  {
   "cell_type": "code",
   "execution_count": null,
   "metadata": {},
   "outputs": [],
   "source": [
    "model = KeynesModel(N, m, n, nb, nm, na)"
   ]
  },
  {
   "cell_type": "code",
   "execution_count": null,
   "metadata": {
    "scrolled": true
   },
   "outputs": [],
   "source": [
    "#count =0\n",
    "model.step()\n",
    "#print(model.count)\n",
    "# while model.count != 0:\n",
    "#     count +=1\n",
    "#print(model.count) \n",
    "#     sorted(model.count_cord)"
   ]
  },
  {
   "cell_type": "code",
   "execution_count": null,
   "metadata": {},
   "outputs": [],
   "source": [
    "from IPython.display import clear_output\n",
    "j=10000\n",
    "for i in range(j):\n",
    "    model.step()\n",
    "    if i<j:\n",
    "        clear_output()"
   ]
  },
  {
   "cell_type": "code",
   "execution_count": null,
   "metadata": {},
   "outputs": [],
   "source": [
    "a=rm.choice(model.schedule.agents)\n",
    "print(a.v_c)\n",
    "print(a.clase)\n"
   ]
  },
  {
   "cell_type": "code",
   "execution_count": null,
   "metadata": {},
   "outputs": [],
   "source": []
  },
  {
   "cell_type": "code",
   "execution_count": null,
   "metadata": {},
   "outputs": [],
   "source": []
  },
  {
   "cell_type": "code",
   "execution_count": null,
   "metadata": {},
   "outputs": [],
   "source": []
  },
  {
   "cell_type": "code",
   "execution_count": null,
   "metadata": {},
   "outputs": [],
   "source": []
  },
  {
   "cell_type": "code",
   "execution_count": null,
   "metadata": {},
   "outputs": [],
   "source": [
    "model.schedule.agents.index(model.schedule.agents.pos==(3,9))"
   ]
  },
  {
   "cell_type": "markdown",
   "metadata": {},
   "source": [
    "## Visualización "
   ]
  },
  {
   "cell_type": "markdown",
   "metadata": {},
   "source": [
    "### Portrayal"
   ]
  },
  {
   "cell_type": "code",
   "execution_count": 5,
   "metadata": {},
   "outputs": [],
   "source": [
    "def agent_portrayal(agent):\n",
    "    portrayal = {\"Shape\": \"circle\",\n",
    "                 \"Filled\": \"true\",\n",
    "                 \"Layer\": 0,\n",
    "                 \"r\": 0.5}\n",
    "    \n",
    "    D=dict(B=np.array([1,0,0]), M=np.array([0,1,0]), A=np.array([0,0,1]),\n",
    "       MB=np.array([1,1,0]), AB=np.array([1,0,1]), AM=np.array([0,1,1]),\n",
    "       AMB=np.array([1,1,1]))\n",
    "    \n",
    "    if (agent.v_c == D['B']).all() :\n",
    "        portrayal[\"Color\"] = \"red\"\n",
    "        \n",
    "    elif (agent.v_c == D['M']).all():\n",
    "        portrayal[\"Color\"] = \"green\" \n",
    "#     else:\n",
    "#         portrayal[\"Color\"] = \"blue\"\n",
    "    elif (agent.v_c == D['A']).all():\n",
    "        portrayal[\"Color\"] = \"blue\"\n",
    "        \n",
    "    elif (agent.v_c == D['MB']).all():\n",
    "        portrayal[\"Color\"] = \"yellow\"\n",
    "        \n",
    "    elif (agent.v_c == D['AB']).all():\n",
    "        portrayal[\"Color\"] = \"#FF1493\" #rosa mexicano\n",
    "        \n",
    "    elif (agent.v_c == D['AM']).all():\n",
    "        portrayal[\"Color\"] = \"#48D1CC\" #turquesa bonito\n",
    "        \n",
    "    elif (agent.v_c == D['AMB']).all():\n",
    "        portrayal[\"Color\"] = \"#000000\" #negro\n",
    "    else :\n",
    "        portrayal[\"Color\"] = \"#FFFFFF\" #blanco\n",
    "        \n",
    "        \n",
    "    return portrayal"
   ]
  },
  {
   "cell_type": "markdown",
   "metadata": {},
   "source": [
    "### Run"
   ]
  },
  {
   "cell_type": "code",
   "execution_count": 6,
   "metadata": {},
   "outputs": [],
   "source": [
    "#parametros del modelo\n",
    "N, m, n, nb, nm, na = 100,10,10,33,34,33"
   ]
  },
  {
   "cell_type": "code",
   "execution_count": 10,
   "metadata": {},
   "outputs": [
    {
     "name": "stdout",
     "output_type": "stream",
     "text": [
      "Interface starting at http://127.0.0.1:8559\n"
     ]
    },
    {
     "ename": "RuntimeError",
     "evalue": "This event loop is already running",
     "output_type": "error",
     "traceback": [
      "\u001b[0;31m---------------------------------------------------------------------------\u001b[0m",
      "\u001b[0;31mRuntimeError\u001b[0m                              Traceback (most recent call last)",
      "\u001b[0;32m<ipython-input-10-0356d6afcd24>\u001b[0m in \u001b[0;36m<module>\u001b[0;34m\u001b[0m\n\u001b[1;32m      5\u001b[0m                        {\"N\":N, \"m\":m, \"n\":n, \"n_b\":nb, \"n_m\":nm, \"n_a\":na})\n\u001b[1;32m      6\u001b[0m \u001b[0mserver\u001b[0m\u001b[0;34m.\u001b[0m\u001b[0mport\u001b[0m \u001b[0;34m=\u001b[0m \u001b[0;36m8559\u001b[0m \u001b[0;31m# The default\u001b[0m\u001b[0;34m\u001b[0m\u001b[0;34m\u001b[0m\u001b[0m\n\u001b[0;32m----> 7\u001b[0;31m \u001b[0mserver\u001b[0m\u001b[0;34m.\u001b[0m\u001b[0mlaunch\u001b[0m\u001b[0;34m(\u001b[0m\u001b[0;34m)\u001b[0m\u001b[0;34m\u001b[0m\u001b[0;34m\u001b[0m\u001b[0m\n\u001b[0m",
      "\u001b[0;32m~/opt/anaconda3/lib/python3.7/site-packages/mesa/visualization/ModularVisualization.py\u001b[0m in \u001b[0;36mlaunch\u001b[0;34m(self, port, open_browser)\u001b[0m\n\u001b[1;32m    335\u001b[0m             \u001b[0mwebbrowser\u001b[0m\u001b[0;34m.\u001b[0m\u001b[0mopen\u001b[0m\u001b[0;34m(\u001b[0m\u001b[0murl\u001b[0m\u001b[0;34m)\u001b[0m\u001b[0;34m\u001b[0m\u001b[0;34m\u001b[0m\u001b[0m\n\u001b[1;32m    336\u001b[0m         \u001b[0mtornado\u001b[0m\u001b[0;34m.\u001b[0m\u001b[0mautoreload\u001b[0m\u001b[0;34m.\u001b[0m\u001b[0mstart\u001b[0m\u001b[0;34m(\u001b[0m\u001b[0;34m)\u001b[0m\u001b[0;34m\u001b[0m\u001b[0;34m\u001b[0m\u001b[0m\n\u001b[0;32m--> 337\u001b[0;31m         \u001b[0mtornado\u001b[0m\u001b[0;34m.\u001b[0m\u001b[0mioloop\u001b[0m\u001b[0;34m.\u001b[0m\u001b[0mIOLoop\u001b[0m\u001b[0;34m.\u001b[0m\u001b[0mcurrent\u001b[0m\u001b[0;34m(\u001b[0m\u001b[0;34m)\u001b[0m\u001b[0;34m.\u001b[0m\u001b[0mstart\u001b[0m\u001b[0;34m(\u001b[0m\u001b[0;34m)\u001b[0m\u001b[0;34m\u001b[0m\u001b[0;34m\u001b[0m\u001b[0m\n\u001b[0m",
      "\u001b[0;32m~/opt/anaconda3/lib/python3.7/site-packages/tornado/platform/asyncio.py\u001b[0m in \u001b[0;36mstart\u001b[0;34m(self)\u001b[0m\n\u001b[1;32m    146\u001b[0m             \u001b[0mself\u001b[0m\u001b[0;34m.\u001b[0m\u001b[0m_setup_logging\u001b[0m\u001b[0;34m(\u001b[0m\u001b[0;34m)\u001b[0m\u001b[0;34m\u001b[0m\u001b[0;34m\u001b[0m\u001b[0m\n\u001b[1;32m    147\u001b[0m             \u001b[0masyncio\u001b[0m\u001b[0;34m.\u001b[0m\u001b[0mset_event_loop\u001b[0m\u001b[0;34m(\u001b[0m\u001b[0mself\u001b[0m\u001b[0;34m.\u001b[0m\u001b[0masyncio_loop\u001b[0m\u001b[0;34m)\u001b[0m\u001b[0;34m\u001b[0m\u001b[0;34m\u001b[0m\u001b[0m\n\u001b[0;32m--> 148\u001b[0;31m             \u001b[0mself\u001b[0m\u001b[0;34m.\u001b[0m\u001b[0masyncio_loop\u001b[0m\u001b[0;34m.\u001b[0m\u001b[0mrun_forever\u001b[0m\u001b[0;34m(\u001b[0m\u001b[0;34m)\u001b[0m\u001b[0;34m\u001b[0m\u001b[0;34m\u001b[0m\u001b[0m\n\u001b[0m\u001b[1;32m    149\u001b[0m         \u001b[0;32mfinally\u001b[0m\u001b[0;34m:\u001b[0m\u001b[0;34m\u001b[0m\u001b[0;34m\u001b[0m\u001b[0m\n\u001b[1;32m    150\u001b[0m             \u001b[0masyncio\u001b[0m\u001b[0;34m.\u001b[0m\u001b[0mset_event_loop\u001b[0m\u001b[0;34m(\u001b[0m\u001b[0mold_loop\u001b[0m\u001b[0;34m)\u001b[0m\u001b[0;34m\u001b[0m\u001b[0;34m\u001b[0m\u001b[0m\n",
      "\u001b[0;32m~/opt/anaconda3/lib/python3.7/asyncio/base_events.py\u001b[0m in \u001b[0;36mrun_forever\u001b[0;34m(self)\u001b[0m\n\u001b[1;32m    519\u001b[0m         \u001b[0mself\u001b[0m\u001b[0;34m.\u001b[0m\u001b[0m_check_closed\u001b[0m\u001b[0;34m(\u001b[0m\u001b[0;34m)\u001b[0m\u001b[0;34m\u001b[0m\u001b[0;34m\u001b[0m\u001b[0m\n\u001b[1;32m    520\u001b[0m         \u001b[0;32mif\u001b[0m \u001b[0mself\u001b[0m\u001b[0;34m.\u001b[0m\u001b[0mis_running\u001b[0m\u001b[0;34m(\u001b[0m\u001b[0;34m)\u001b[0m\u001b[0;34m:\u001b[0m\u001b[0;34m\u001b[0m\u001b[0;34m\u001b[0m\u001b[0m\n\u001b[0;32m--> 521\u001b[0;31m             \u001b[0;32mraise\u001b[0m \u001b[0mRuntimeError\u001b[0m\u001b[0;34m(\u001b[0m\u001b[0;34m'This event loop is already running'\u001b[0m\u001b[0;34m)\u001b[0m\u001b[0;34m\u001b[0m\u001b[0;34m\u001b[0m\u001b[0m\n\u001b[0m\u001b[1;32m    522\u001b[0m         \u001b[0;32mif\u001b[0m \u001b[0mevents\u001b[0m\u001b[0;34m.\u001b[0m\u001b[0m_get_running_loop\u001b[0m\u001b[0;34m(\u001b[0m\u001b[0;34m)\u001b[0m \u001b[0;32mis\u001b[0m \u001b[0;32mnot\u001b[0m \u001b[0;32mNone\u001b[0m\u001b[0;34m:\u001b[0m\u001b[0;34m\u001b[0m\u001b[0;34m\u001b[0m\u001b[0m\n\u001b[1;32m    523\u001b[0m             raise RuntimeError(\n",
      "\u001b[0;31mRuntimeError\u001b[0m: This event loop is already running"
     ]
    },
    {
     "name": "stdout",
     "output_type": "stream",
     "text": [
      "Socket opened!\n",
      "{\"type\":\"reset\"}\n",
      "{\"type\":\"get_step\",\"step\":1}\n",
      "{\"type\":\"get_step\",\"step\":2}\n",
      "{\"type\":\"get_step\",\"step\":3}\n",
      "{\"type\":\"get_step\",\"step\":4}\n",
      "{\"type\":\"get_step\",\"step\":5}\n",
      "{\"type\":\"get_step\",\"step\":6}\n",
      "{\"type\":\"get_step\",\"step\":7}\n",
      "{\"type\":\"get_step\",\"step\":8}\n",
      "{\"type\":\"get_step\",\"step\":9}\n",
      "{\"type\":\"get_step\",\"step\":10}\n",
      "{\"type\":\"get_step\",\"step\":11}\n",
      "{\"type\":\"get_step\",\"step\":12}\n",
      "{\"type\":\"get_step\",\"step\":13}\n",
      "{\"type\":\"get_step\",\"step\":14}\n",
      "{\"type\":\"get_step\",\"step\":15}\n",
      "{\"type\":\"get_step\",\"step\":16}\n",
      "{\"type\":\"get_step\",\"step\":17}\n",
      "{\"type\":\"get_step\",\"step\":18}\n",
      "{\"type\":\"get_step\",\"step\":19}\n",
      "{\"type\":\"get_step\",\"step\":20}\n",
      "{\"type\":\"get_step\",\"step\":21}\n",
      "{\"type\":\"get_step\",\"step\":22}\n",
      "{\"type\":\"get_step\",\"step\":23}\n",
      "{\"type\":\"get_step\",\"step\":24}\n",
      "{\"type\":\"get_step\",\"step\":25}\n",
      "{\"type\":\"get_step\",\"step\":26}\n",
      "{\"type\":\"get_step\",\"step\":27}\n",
      "{\"type\":\"get_step\",\"step\":28}\n",
      "{\"type\":\"get_step\",\"step\":29}\n",
      "{\"type\":\"get_step\",\"step\":30}\n",
      "{\"type\":\"get_step\",\"step\":31}\n",
      "{\"type\":\"get_step\",\"step\":32}\n",
      "{\"type\":\"get_step\",\"step\":33}\n",
      "{\"type\":\"get_step\",\"step\":34}\n",
      "{\"type\":\"get_step\",\"step\":35}\n",
      "{\"type\":\"get_step\",\"step\":36}\n",
      "{\"type\":\"get_step\",\"step\":37}\n",
      "{\"type\":\"get_step\",\"step\":38}\n",
      "{\"type\":\"get_step\",\"step\":39}\n",
      "{\"type\":\"get_step\",\"step\":40}\n",
      "{\"type\":\"get_step\",\"step\":41}\n",
      "{\"type\":\"get_step\",\"step\":42}\n",
      "{\"type\":\"get_step\",\"step\":43}\n",
      "{\"type\":\"get_step\",\"step\":44}\n",
      "{\"type\":\"get_step\",\"step\":45}\n",
      "{\"type\":\"get_step\",\"step\":46}\n",
      "{\"type\":\"get_step\",\"step\":47}\n",
      "{\"type\":\"get_step\",\"step\":48}\n",
      "{\"type\":\"get_step\",\"step\":49}\n",
      "{\"type\":\"get_step\",\"step\":50}\n",
      "{\"type\":\"get_step\",\"step\":51}\n",
      "{\"type\":\"get_step\",\"step\":52}\n",
      "{\"type\":\"get_step\",\"step\":53}\n",
      "{\"type\":\"get_step\",\"step\":54}\n",
      "{\"type\":\"get_step\",\"step\":55}\n",
      "{\"type\":\"get_step\",\"step\":56}\n",
      "{\"type\":\"get_step\",\"step\":57}\n",
      "{\"type\":\"get_step\",\"step\":58}\n",
      "{\"type\":\"get_step\",\"step\":59}\n",
      "{\"type\":\"get_step\",\"step\":60}\n",
      "{\"type\":\"get_step\",\"step\":61}\n",
      "{\"type\":\"get_step\",\"step\":62}\n",
      "{\"type\":\"get_step\",\"step\":63}\n",
      "{\"type\":\"get_step\",\"step\":64}\n",
      "{\"type\":\"get_step\",\"step\":65}\n",
      "{\"type\":\"get_step\",\"step\":66}\n",
      "{\"type\":\"get_step\",\"step\":67}\n",
      "{\"type\":\"get_step\",\"step\":68}\n",
      "{\"type\":\"get_step\",\"step\":69}\n",
      "{\"type\":\"get_step\",\"step\":317}\n",
      "{\"type\":\"get_step\",\"step\":318}\n",
      "{\"type\":\"get_step\",\"step\":319}\n",
      "{\"type\":\"get_step\",\"step\":320}\n",
      "{\"type\":\"get_step\",\"step\":321}\n",
      "{\"type\":\"get_step\",\"step\":322}\n",
      "{\"type\":\"get_step\",\"step\":323}\n",
      "{\"type\":\"get_step\",\"step\":324}\n",
      "{\"type\":\"get_step\",\"step\":325}\n",
      "{\"type\":\"get_step\",\"step\":326}\n",
      "{\"type\":\"get_step\",\"step\":327}\n",
      "{\"type\":\"get_step\",\"step\":328}\n",
      "{\"type\":\"get_step\",\"step\":329}\n",
      "{\"type\":\"get_step\",\"step\":330}\n",
      "{\"type\":\"get_step\",\"step\":331}\n"
     ]
    }
   ],
   "source": [
    "grid = CanvasGrid(agent_portrayal, m, n, 500, 500)\n",
    "server = ModularServer(KeynesModel,\n",
    "                       [grid],\n",
    "                       \"Post-Keynesian Model\",\n",
    "                       {\"N\":N, \"m\":m, \"n\":n, \"n_b\":nb, \"n_m\":nm, \"n_a\":na})\n",
    "server.port = 8559 # The default\n",
    "server.launch()"
   ]
  },
  {
   "cell_type": "code",
   "execution_count": null,
   "metadata": {},
   "outputs": [],
   "source": [
    "pwd"
   ]
  },
  {
   "cell_type": "markdown",
   "metadata": {
    "heading_collapsed": true
   },
   "source": [
    "# Funciones de prueba y testing"
   ]
  },
  {
   "cell_type": "code",
   "execution_count": null,
   "metadata": {
    "hidden": true
   },
   "outputs": [],
   "source": [
    "print(colored('hello', 'red'))"
   ]
  },
  {
   "cell_type": "code",
   "execution_count": null,
   "metadata": {
    "hidden": true
   },
   "outputs": [],
   "source": [
    "# this is a flip coin with random module\n",
    "\n",
    "draws=[rm.choices(range(3),weights=[0.5,0.25,0.25])[0] for i in range(50)]\n",
    "print(draws.count(1))\n",
    "print(draws.count(0))\n",
    "plt.hist(draws)\n",
    "#For a script add the following line\n",
    "plt.show()"
   ]
  },
  {
   "cell_type": "code",
   "execution_count": null,
   "metadata": {
    "hidden": true
   },
   "outputs": [],
   "source": [
    "D=dict(B=np.array([1,0,0]), M=np.array([0,1,0]), A=np.array([0,0,1]),\n",
    "           MB=np.array([1,1,0]), AB=np.array([1,0,1]), AM=np.array([0,1,1]),\n",
    "           AMB=np.array([1,1,1]))\n",
    "    \n",
    "    # Clases sociales \n",
    "    \n",
    "D_med=[D['M'], D['MB'], D['AM']]\n",
    "D_alt=[D['A'], D['AB'], D['AMB']]"
   ]
  },
  {
   "cell_type": "code",
   "execution_count": null,
   "metadata": {
    "hidden": true
   },
   "outputs": [],
   "source": [
    "#parametros del modelo\n",
    "N, m, n, nb, nm, na = 100,10,10,33,34,33"
   ]
  },
  {
   "cell_type": "code",
   "execution_count": null,
   "metadata": {
    "hidden": true
   },
   "outputs": [],
   "source": [
    "model = KeynesModel(N, m, n, nb, nm, na)"
   ]
  },
  {
   "cell_type": "code",
   "execution_count": null,
   "metadata": {
    "hidden": true
   },
   "outputs": [],
   "source": [
    "a=rm.choice(model.schedule.agents)\n",
    "print(a.v_c)\n",
    "\n",
    "    "
   ]
  },
  {
   "cell_type": "code",
   "execution_count": null,
   "metadata": {
    "hidden": true
   },
   "outputs": [],
   "source": [
    "a=rm.choice(model.schedule.agents)\n",
    "print(a.v_c)\n",
    "\n",
    "if a.clase == -1:\n",
    "    \n",
    "    coin = rm.choices([0,1], weights=[0.9,0.1] )[0]\n",
    "    if coin == 1:\n",
    "                a.v_c = rm.choice(D_med)\n",
    "\n",
    "elif a.clase == 0:\n",
    "    \n",
    "    coin3 = rm.choices([-1,0,1], weights=[0.1,0.8,0.1] )[0]\n",
    "    if coin3 == -1:\n",
    "        a.vc = D['B']\n",
    "    elif coin3 == 1:\n",
    "        a.vc = rm.choice(D_alt)\n",
    "else:\n",
    "    coin = rm.choices([0,1], weights=[0.9,0.1] )[0]\n",
    "    if coin == 1:\n",
    "        a.vc = rm.choice(D_med)\n",
    "        \n",
    "#         coin=rm.choices(range(2),weights=[0.1,0.9])[0]\n",
    "#     if coin == 1:\n",
    "#                 a.v_c = rm.choice(D_med)\n",
    "#     else:\n",
    "#         a.v_c = a.v_c\n",
    "print(a.v_c)"
   ]
  },
  {
   "cell_type": "code",
   "execution_count": null,
   "metadata": {
    "hidden": true
   },
   "outputs": [],
   "source": []
  },
  {
   "cell_type": "code",
   "execution_count": null,
   "metadata": {
    "hidden": true
   },
   "outputs": [],
   "source": []
  }
 ],
 "metadata": {
  "kernelspec": {
   "display_name": "Python 3",
   "language": "python",
   "name": "python3"
  },
  "language_info": {
   "codemirror_mode": {
    "name": "ipython",
    "version": 3
   },
   "file_extension": ".py",
   "mimetype": "text/x-python",
   "name": "python",
   "nbconvert_exporter": "python",
   "pygments_lexer": "ipython3",
   "version": "3.7.4"
  }
 },
 "nbformat": 4,
 "nbformat_minor": 2
}
